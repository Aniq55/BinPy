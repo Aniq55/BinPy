{
 "metadata": {
  "name": "",
  "signature": "sha256:d0c35ec096598eb7c1097ebbea90ebc4b42c860130e96169d74d52afe70997eb"
 },
 "nbformat": 3,
 "nbformat_minor": 0,
 "worksheets": [
  {
   "cells": [
    {
     "cell_type": "heading",
     "level": 2,
     "metadata": {},
     "source": [
      "Examples for operations class"
     ]
    },
    {
     "cell_type": "code",
     "collapsed": false,
     "input": [
      "from __future__ import print_function\n",
      "from BinPy.Operations.operations import *"
     ],
     "language": "python",
     "metadata": {},
     "outputs": [],
     "prompt_number": 1
    },
    {
     "cell_type": "code",
     "collapsed": false,
     "input": [
      "# Initialize the operation class\n",
      "\n",
      "op = Operations()\n",
      "\n",
      "# Binary Addition\n",
      "\n",
      "print (op.ADD('0', '1'), op.ADD('00', '10'), op.ADD('010', '100'))"
     ],
     "language": "python",
     "metadata": {},
     "outputs": [
      {
       "output_type": "stream",
       "stream": "stdout",
       "text": [
        "1 10 110\n"
       ]
      }
     ],
     "prompt_number": 2
    },
    {
     "cell_type": "code",
     "collapsed": false,
     "input": [
      "# Binary Subtraction\n",
      "\n",
      "print (op.SUB('1', '0'), op.SUB('00', '10'), op.SUB('010', '100'))"
     ],
     "language": "python",
     "metadata": {},
     "outputs": [
      {
       "output_type": "stream",
       "stream": "stdout",
       "text": [
        "1 10 10\n"
       ]
      }
     ],
     "prompt_number": 3
    },
    {
     "cell_type": "code",
     "collapsed": false,
     "input": [
      "# Binary Multiplication\n",
      "\n",
      "print (op.MUL('0', '1'), op.MUL('00', '10'), op.MUL('010', '100'))"
     ],
     "language": "python",
     "metadata": {},
     "outputs": [
      {
       "output_type": "stream",
       "stream": "stdout",
       "text": [
        "0 0 1000\n"
       ]
      }
     ],
     "prompt_number": 4
    },
    {
     "cell_type": "code",
     "collapsed": false,
     "input": [
      "# Binary Division\n",
      "\n",
      "print (op.DIV('0', '1'), op.DIV('00', '10'), op.DIV('010', '100'))"
     ],
     "language": "python",
     "metadata": {},
     "outputs": [
      {
       "output_type": "stream",
       "stream": "stdout",
       "text": [
        "0 0 0\n"
       ]
      }
     ],
     "prompt_number": 5
    },
    {
     "cell_type": "code",
     "collapsed": false,
     "input": [
      "# Binary Complement\n",
      "\n",
      "print (\n",
      "    op.COMP(\n",
      "        '0', '1'), op.COMP(\n",
      "        '00', '1'), op.COMP(\n",
      "        '00', '2'), op.COMP(\n",
      "        '010', '1'))"
     ],
     "language": "python",
     "metadata": {},
     "outputs": [
      {
       "output_type": "stream",
       "stream": "stdout",
       "text": [
        "1 11 100 101\n"
       ]
      }
     ],
     "prompt_number": 6
    },
    {
     "cell_type": "code",
     "collapsed": false,
     "input": [
      "# Conversion from binary to decimal\n",
      "\n",
      "print (Operations.binToDec('111'))"
     ],
     "language": "python",
     "metadata": {},
     "outputs": [
      {
       "output_type": "stream",
       "stream": "stdout",
       "text": [
        "7\n"
       ]
      }
     ],
     "prompt_number": 7
    },
    {
     "cell_type": "code",
     "collapsed": false,
     "input": [
      "# Conversion from decimal to binary\n",
      "\n",
      "print (Operations.decToBin(12))"
     ],
     "language": "python",
     "metadata": {},
     "outputs": [
      {
       "output_type": "stream",
       "stream": "stdout",
       "text": [
        "1100\n"
       ]
      }
     ],
     "prompt_number": 8
    }
   ],
   "metadata": {}
  }
 ]
}