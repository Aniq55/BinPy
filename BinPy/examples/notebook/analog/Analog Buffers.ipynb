{
 "metadata": {
  "name": "",
  "signature": "sha256:d63f46fdca26ec52909d4f10b7170340f5a78a5017f13e3535c08ae117c8e2dd"
 },
 "nbformat": 3,
 "nbformat_minor": 0,
 "worksheets": [
  {
   "cells": [
    {
     "cell_type": "heading",
     "level": 2,
     "metadata": {},
     "source": [
      "Example usage for Analog Buffers"
     ]
    },
    {
     "cell_type": "code",
     "collapsed": false,
     "input": [
      "from BinPy import *\n",
      "\n",
      "# Source Bus\n",
      "a = Bus(4)\n",
      "a.set_type(analog=True)\n",
      "a.set_voltage_all(3.5, 6.7, 2.2, 1.1)\n",
      "\n",
      "# Ouput Bus\n",
      "b = Bus(4)\n",
      "b.set_type(analog=True)\n",
      "\n",
      "# Enable input\n",
      "e = Bus(1)\n",
      "e.set_logic_all(1)"
     ],
     "language": "python",
     "metadata": {},
     "outputs": [],
     "prompt_number": 1
    },
    {
     "cell_type": "code",
     "collapsed": false,
     "input": [
      "# Initializing an analog Buffer\n",
      "buff1 = AnalogBuffer(a, b, e, 0.8) # With an attenuation of 0.8, relay the input to the output"
     ],
     "language": "python",
     "metadata": {},
     "outputs": [],
     "prompt_number": 2
    },
    {
     "cell_type": "code",
     "collapsed": false,
     "input": [
      "print b.get_voltage_all()"
     ],
     "language": "python",
     "metadata": {},
     "outputs": [
      {
       "output_type": "stream",
       "stream": "stdout",
       "text": [
        "[3.1920379377456842, 6.110472623684595, 2.0064238465830018, 1.0032119232915009]\n"
       ]
      }
     ],
     "prompt_number": 3
    },
    {
     "cell_type": "code",
     "collapsed": false,
     "input": [
      "# BinPy automatically converts the voltage to logic state based on 5v-0v logic\n",
      "print b.get_logic_all()"
     ],
     "language": "python",
     "metadata": {},
     "outputs": [
      {
       "output_type": "stream",
       "stream": "stdout",
       "text": [
        "[1, 1, 0, 0]\n"
       ]
      }
     ],
     "prompt_number": 4
    },
    {
     "cell_type": "code",
     "collapsed": false,
     "input": [
      "print b.get_voltage_all()"
     ],
     "language": "python",
     "metadata": {},
     "outputs": [
      {
       "output_type": "stream",
       "stream": "stdout",
       "text": [
        "[3.1920379377456842, 6.110472623684595, 2.0064238465830018, 1.0032119232915009]\n"
       ]
      }
     ],
     "prompt_number": 5
    },
    {
     "cell_type": "code",
     "collapsed": false,
     "input": [
      "# Changing the input\n",
      "\n",
      "a.set_voltage_all(1,1,1,1)"
     ],
     "language": "python",
     "metadata": {},
     "outputs": []
    },
    {
     "cell_type": "code",
     "collapsed": false,
     "input": [
      "b.get_voltage_all()"
     ],
     "language": "python",
     "metadata": {},
     "outputs": [
      {
       "metadata": {},
       "output_type": "pyout",
       "prompt_number": 7,
       "text": [
        "[0.9120108393559098,\n",
        " 0.9120108393559098,\n",
        " 0.9120108393559098,\n",
        " 0.9120108393559098]"
       ]
      }
     ],
     "prompt_number": 7
    },
    {
     "cell_type": "code",
     "collapsed": false,
     "input": [
      "# Changing the attenuation level\n",
      "\n",
      "buff1.set_attenuation(0)"
     ],
     "language": "python",
     "metadata": {},
     "outputs": [],
     "prompt_number": 8
    },
    {
     "cell_type": "code",
     "collapsed": false,
     "input": [
      "b.get_voltage_all()"
     ],
     "language": "python",
     "metadata": {},
     "outputs": [
      {
       "metadata": {},
       "output_type": "pyout",
       "prompt_number": 9,
       "text": [
        "[1.0, 1.0, 1.0, 1.0]"
       ]
      }
     ],
     "prompt_number": 9
    }
   ],
   "metadata": {}
  }
 ]
}