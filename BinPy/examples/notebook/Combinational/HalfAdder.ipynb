{
 "metadata": {
  "name": "",
  "signature": "sha256:fdbdc59315e584c240f6a5209f6f7bcc48dc6cd95d1db3fd5070915e93c7a83e"
 },
 "nbformat": 3,
 "nbformat_minor": 0,
 "worksheets": [
  {
   "cells": [
    {
     "cell_type": "heading",
     "level": 2,
     "metadata": {},
     "source": [
      "Example for Half Adder class."
     ]
    },
    {
     "cell_type": "code",
     "collapsed": false,
     "input": [
      "# Imports\n",
      "\n",
      "from __future__ import print_function\n",
      "from BinPy.Combinational.combinational import *"
     ],
     "language": "python",
     "metadata": {},
     "outputs": [],
     "prompt_number": 1
    },
    {
     "cell_type": "code",
     "collapsed": false,
     "input": [
      "# Initializing the HalfAdder class\n",
      "\n",
      "ha = HalfAdder(0, 1)\n",
      "\n",
      "# Output of HalfAdder\n",
      "\n",
      "print (ha.output())"
     ],
     "language": "python",
     "metadata": {},
     "outputs": [
      {
       "output_type": "stream",
       "stream": "stdout",
       "text": [
        "[1, 0]\n"
       ]
      }
     ],
     "prompt_number": 2
    },
    {
     "cell_type": "code",
     "collapsed": false,
     "input": [
      "# The output is of the form [SUM, CARRY]\"\n",
      "\n",
      "# Input changes\n",
      "\n",
      "# Input at index 1 is changed to 0\n",
      "\n",
      "ha.setInput(1, 0)\n",
      "\n",
      "# New Output of the HalfAdder\n",
      "\n",
      "print (ha.output())"
     ],
     "language": "python",
     "metadata": {},
     "outputs": [
      {
       "output_type": "stream",
       "stream": "stdout",
       "text": [
        "[0, 0]\n"
       ]
      }
     ],
     "prompt_number": 3
    },
    {
     "cell_type": "code",
     "collapsed": false,
     "input": [
      "# Changing the number of inputs\n",
      "\n",
      "# No need to set the number, just change the inputs\n",
      "\n",
      "# Input length must be two\n",
      "\n",
      "ha.setInputs(1, 1)\n",
      "\n",
      "# To get the input states\n",
      "\n",
      "print (ha.getInputStates())"
     ],
     "language": "python",
     "metadata": {},
     "outputs": [
      {
       "output_type": "stream",
       "stream": "stdout",
       "text": [
        "[1, 1]\n"
       ]
      }
     ],
     "prompt_number": 4
    },
    {
     "cell_type": "code",
     "collapsed": false,
     "input": [
      "# New output of HalfAdder\n",
      "\n",
      "print (ha.output())"
     ],
     "language": "python",
     "metadata": {},
     "outputs": [
      {
       "output_type": "stream",
       "stream": "stdout",
       "text": [
        "[0, 1]\n"
       ]
      }
     ],
     "prompt_number": 5
    },
    {
     "cell_type": "code",
     "collapsed": false,
     "input": [
      "# Using Connectors as the input lines\n",
      "\n",
      "# Take a Connector\n",
      "\n",
      "conn = Connector()\n",
      "\n",
      "# Set Output at index to Connector conn\n",
      "\n",
      "ha.setOutput(0, conn)\n",
      "\n",
      "# Put this connector as the input to gate1\n",
      "\n",
      "gate1 = AND(conn, 0)\n",
      "\n",
      "# Output of the gate1\n",
      "\n",
      "print (gate1.output())"
     ],
     "language": "python",
     "metadata": {},
     "outputs": [
      {
       "output_type": "stream",
       "stream": "stdout",
       "text": [
        "0\n"
       ]
      }
     ],
     "prompt_number": 6
    },
    {
     "cell_type": "code",
     "collapsed": false,
     "input": [
      "# Information about ha instance can be found by\n",
      "\n",
      "print (ha)"
     ],
     "language": "python",
     "metadata": {},
     "outputs": [
      {
       "output_type": "stream",
       "stream": "stdout",
       "text": [
        "[0, 1]\n"
       ]
      }
     ],
     "prompt_number": 7
    }
   ],
   "metadata": {}
  }
 ]
}