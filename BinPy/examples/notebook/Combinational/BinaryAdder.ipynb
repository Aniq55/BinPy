{
 "metadata": {
  "name": ""
 },
 "nbformat": 3,
 "nbformat_minor": 0,
 "worksheets": [
  {
   "cells": [
    {
     "cell_type": "heading",
     "level": 2,
     "metadata": {},
     "source": [
      "Example for BinaryAdder class"
     ]
    },
    {
     "cell_type": "code",
     "collapsed": false,
     "input": [
      "# Imports\n",
      "\n",
      "from __future__ import print_function\n",
      "from BinPy.Combinational.combinational import *"
     ],
     "language": "python",
     "metadata": {},
     "outputs": []
    },
    {
     "cell_type": "code",
     "collapsed": false,
     "input": [
      "# Initializing the BinaryAdder class\n",
      "\n",
      "# Input is of the form ([Binary number 1],[ BInary number 2], Carry]\n",
      "\n",
      "ba = BinaryAdder([0, 1], [1, 0], 0)\n",
      "\n",
      "# Output of BinaryAdder\n",
      "# Output is of the form [ [SUM], CARRY]\n",
      "\n",
      "print (ba.output())"
     ],
     "language": "python",
     "metadata": {},
     "outputs": []
    },
    {
     "cell_type": "code",
     "collapsed": false,
     "input": [
      "# Input changes\n",
      "\n",
      "ba.setInput(1, [0])\n",
      "\n",
      "# New Output of the BinaryAdder\n",
      "\n",
      "print (ba.output())"
     ],
     "language": "python",
     "metadata": {},
     "outputs": []
    },
    {
     "cell_type": "code",
     "collapsed": false,
     "input": [
      "# Changing the number of inputs\n",
      "# No need to set the number, just change the inputs\n",
      "# Input length must be three\n",
      "\n",
      "ba.setInputs([1], [0], 1)\n",
      "\n",
      "# To get the input states\n",
      "\n",
      "print (ba.getInputStates())\n",
      "\n",
      "# New output of BinaryAdder\n",
      "\n",
      "print (ba.output())"
     ],
     "language": "python",
     "metadata": {},
     "outputs": []
    },
    {
     "cell_type": "code",
     "collapsed": false,
     "input": [
      "# Using Connectors as the input lines\n",
      "# Take a Connector\n",
      "\n",
      "conn = Connector()\n",
      "\n",
      "# Set Output of Binary Adder to Connector conn\n",
      "\n",
      "ba.setOutput(0, conn)\n",
      "\n",
      "# Put this connector as the input to gate1\n",
      "\n",
      "gate1 = AND(conn, 0)\n",
      "\n",
      "# Output of the gate1\n",
      "\n",
      "print (gate1.output())"
     ],
     "language": "python",
     "metadata": {},
     "outputs": []
    },
    {
     "cell_type": "code",
     "collapsed": false,
     "input": [
      "# Information about Binary Adder instance can be found by\n",
      "\n",
      "print (ba)"
     ],
     "language": "python",
     "metadata": {},
     "outputs": []
    }
   ],
   "metadata": {}
  }
 ]
}