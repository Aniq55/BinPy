{
 "metadata": {
  "name": "",
  "signature": "sha256:d9b68c61444b459002732575bcbd154e20b15f42cfc8c1aadc344012ea8568b2"
 },
 "nbformat": 3,
 "nbformat_minor": 0,
 "worksheets": [
  {
   "cells": [
    {
     "cell_type": "heading",
     "level": 2,
     "metadata": {},
     "source": [
      "Example for BinarySubtractor class."
     ]
    },
    {
     "cell_type": "code",
     "collapsed": false,
     "input": [
      "# Imports\n",
      "\n",
      "from __future__ import print_function\n",
      "from BinPy.Combinational.combinational import *"
     ],
     "language": "python",
     "metadata": {},
     "outputs": [],
     "prompt_number": 1
    },
    {
     "cell_type": "code",
     "collapsed": false,
     "input": [
      "# Initializing the BinarySubtractor class\n",
      "\n",
      "# Input is of the form [Binary number 1],[ Binary number 2], Carry\n",
      "\n",
      "bs = BinarySubtractor([0, 1], [1, 0], 0)\n",
      "\n",
      "# Output of BinarySubtractor\n",
      "\n",
      "# Output is of the form [ [Difference], Borrow]\n",
      "\n",
      "print (bs.output())"
     ],
     "language": "python",
     "metadata": {},
     "outputs": [
      {
       "output_type": "stream",
       "stream": "stdout",
       "text": [
        "[1, 1, 1]\n"
       ]
      }
     ],
     "prompt_number": 2
    },
    {
     "cell_type": "code",
     "collapsed": false,
     "input": [
      "# Input changes\n",
      "\n",
      "# Input at index 1 is changed to [0, 0]\n",
      "\n",
      "bs.setInput(1, [0, 0])\n",
      "\n",
      "# New Output of the BinarySubtractor\n",
      "\n",
      "print (bs.output())"
     ],
     "language": "python",
     "metadata": {},
     "outputs": [
      {
       "output_type": "stream",
       "stream": "stdout",
       "text": [
        "[0, 0, 1]\n"
       ]
      }
     ],
     "prompt_number": 3
    },
    {
     "cell_type": "code",
     "collapsed": false,
     "input": [
      "# Changing the number of inputs\n",
      "\n",
      "# No need to set the number, just change the inputs\n",
      "\n",
      "# Input length must be three\n",
      "\n",
      "bs.setInputs([1, 0], [1, 1], 1)\n",
      "\n",
      "# To get the input states\n",
      "\n",
      "print (bs.getInputStates())"
     ],
     "language": "python",
     "metadata": {},
     "outputs": [
      {
       "output_type": "stream",
       "stream": "stdout",
       "text": [
        "[[1, 0], [1, 1], 1]\n"
       ]
      }
     ],
     "prompt_number": 4
    },
    {
     "cell_type": "code",
     "collapsed": false,
     "input": [
      "# New output of BinarySubtractor\n",
      "\n",
      "print (bs.output())"
     ],
     "language": "python",
     "metadata": {},
     "outputs": [
      {
       "output_type": "stream",
       "stream": "stdout",
       "text": [
        "[1, 1, 1]\n"
       ]
      }
     ],
     "prompt_number": 5
    },
    {
     "cell_type": "code",
     "collapsed": false,
     "input": [
      "# Using Connectors as the input lines\n",
      "\n",
      "# Take a Connector\n",
      "\n",
      "conn = Connector()\n",
      "\n",
      "# Set Output of Binary Subtractor to Connector conn\n",
      "\n",
      "# sets the conn at index 0\n",
      "\n",
      "bs.setOutput(0, conn)\n",
      "\n",
      "# Put this connector as the input to gate1\n",
      "\n",
      "gate1 = AND(conn, 0)\n",
      "\n",
      "# Output of the gate1\n",
      "\n",
      "print (gate1.output())"
     ],
     "language": "python",
     "metadata": {},
     "outputs": [
      {
       "output_type": "stream",
       "stream": "stdout",
       "text": [
        "0\n"
       ]
      }
     ],
     "prompt_number": 6
    },
    {
     "cell_type": "code",
     "collapsed": false,
     "input": [
      "# Information about bs instance can be found by\n",
      "\n",
      "print (bs)"
     ],
     "language": "python",
     "metadata": {},
     "outputs": [
      {
       "output_type": "stream",
       "stream": "stdout",
       "text": [
        "[1, 1, 1]\n"
       ]
      }
     ],
     "prompt_number": 7
    }
   ],
   "metadata": {}
  }
 ]
}