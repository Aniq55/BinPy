{
 "metadata": {
  "name": "",
  "signature": "sha256:b22842df94ac744a0efa3e7fa74458ca090a91fcea669d3b8cc6aab6a1ea0339"
 },
 "nbformat": 3,
 "nbformat_minor": 0,
 "worksheets": [
  {
   "cells": [
    {
     "cell_type": "heading",
     "level": 2,
     "metadata": {},
     "source": [
      "Example to illustrate the usage of bittools"
     ]
    },
    {
     "cell_type": "heading",
     "level": 4,
     "metadata": {},
     "source": [
      "`BinPyBits` is a class inheriting from the `bitstring.BitArray` class. It will be used for efficient manipulation / handling of Bit vectors."
     ]
    },
    {
     "cell_type": "code",
     "collapsed": false,
     "input": [
      "from BinPy import *\n",
      "\n",
      "# Initializing a BinPyBits object\n",
      "\n",
      "bit_vector = BinPyBits(5)"
     ],
     "language": "python",
     "metadata": {},
     "outputs": [],
     "prompt_number": 1
    },
    {
     "cell_type": "code",
     "collapsed": false,
     "input": [
      "# By default all BinPyBits objects are not signed\n",
      "\n",
      "bit_vector.signed"
     ],
     "language": "python",
     "metadata": {},
     "outputs": [
      {
       "metadata": {},
       "output_type": "pyout",
       "prompt_number": 2,
       "text": [
        "False"
       ]
      }
     ],
     "prompt_number": 2
    },
    {
     "cell_type": "code",
     "collapsed": false,
     "input": [
      "# Getting the decimal value\n",
      "\n",
      "bit_vector.uint"
     ],
     "language": "python",
     "metadata": {},
     "outputs": [
      {
       "metadata": {},
       "output_type": "pyout",
       "prompt_number": 3,
       "text": [
        "5"
       ]
      }
     ],
     "prompt_number": 3
    },
    {
     "cell_type": "code",
     "collapsed": false,
     "input": [
      "# Getting the binary string\n",
      "\n",
      "bit_vector.bin"
     ],
     "language": "python",
     "metadata": {},
     "outputs": [
      {
       "metadata": {},
       "output_type": "pyout",
       "prompt_number": 4,
       "text": [
        "'101'"
       ]
      }
     ],
     "prompt_number": 4
    },
    {
     "cell_type": "code",
     "collapsed": false,
     "input": [
      "# Do not use int with unsigned BinPyBits objects\n",
      "\n",
      "bit_vector.int"
     ],
     "language": "python",
     "metadata": {},
     "outputs": [
      {
       "metadata": {},
       "output_type": "pyout",
       "prompt_number": 5,
       "text": [
        "-3"
       ]
      }
     ],
     "prompt_number": 5
    },
    {
     "cell_type": "code",
     "collapsed": false,
     "input": [
      "# This returns -3 since '101' ==> -3 ( 2's Complement representation )\n",
      "\n",
      "# You could use :\n",
      "\n",
      "int_value = bit_vector.int if bit_vector.signed else bit_vector.uint\n",
      "\n",
      "print int_value"
     ],
     "language": "python",
     "metadata": {},
     "outputs": [
      {
       "output_type": "stream",
       "stream": "stdout",
       "text": [
        "5\n"
       ]
      }
     ],
     "prompt_number": 6
    },
    {
     "cell_type": "code",
     "collapsed": false,
     "input": [
      "# Creating a BinPyBits object using binary string\n",
      "\n",
      "bit_vector = BinPyBits('1111', signed=False)\n",
      "\n",
      "# Converting to decimal\n",
      "\n",
      "int_value = bit_vector.int if bit_vector.signed else bit_vector.uint\n",
      "\n",
      "print int_value"
     ],
     "language": "python",
     "metadata": {},
     "outputs": [
      {
       "output_type": "stream",
       "stream": "stdout",
       "text": [
        "15\n"
       ]
      }
     ],
     "prompt_number": 7
    },
    {
     "cell_type": "code",
     "collapsed": false,
     "input": [
      "# Creating a signed BinPyBits\n",
      "\n",
      "bit_vector = BinPyBits('1111', signed=True)\n",
      "\n",
      "# Converting to decimal\n",
      "\n",
      "int_value = bit_vector.int if bit_vector.signed else bit_vector.uint\n",
      "\n",
      "print int_value"
     ],
     "language": "python",
     "metadata": {},
     "outputs": [
      {
       "output_type": "stream",
       "stream": "stdout",
       "text": [
        "-1\n"
       ]
      }
     ],
     "prompt_number": 8
    },
    {
     "cell_type": "code",
     "collapsed": false,
     "input": [
      "# Converting to hex\n",
      "\n",
      "bit_vector.hex"
     ],
     "language": "python",
     "metadata": {},
     "outputs": [
      {
       "metadata": {},
       "output_type": "pyout",
       "prompt_number": 9,
       "text": [
        "'f'"
       ]
      }
     ],
     "prompt_number": 9
    },
    {
     "cell_type": "markdown",
     "metadata": {},
     "source": [
      "Refer [the documentation of bittstring](https://pypi.python.org/pypi/bitstring/3.1.3) to discover additional functionality."
     ]
    },
    {
     "cell_type": "code",
     "collapsed": false,
     "input": [
      "# The speciality of BinPyBits lies in the fact that it can be initialized from various types of inputs\n",
      "# Except for the initialization, the rest of the functionalities remain similar to that of the bitstring.BitArray\n",
      "\n",
      "# Initializing a signed value using - sign\n",
      "\n",
      "bit_vector = BinPyBits('-1111', signed=True)\n",
      "\n",
      "print bit_vector.int"
     ],
     "language": "python",
     "metadata": {},
     "outputs": [
      {
       "output_type": "stream",
       "stream": "stdout",
       "text": [
        "-15\n"
       ]
      }
     ],
     "prompt_number": 10
    }
   ],
   "metadata": {}
  }
 ]
}