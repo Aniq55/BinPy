{
 "metadata": {
  "name": "",
  "signature": "sha256:fff1fec332fc2f5c828289dabdd88ac5fb0184e970bd88fcc48a084d36dfe1d0"
 },
 "nbformat": 3,
 "nbformat_minor": 0,
 "worksheets": [
  {
   "cells": [
    {
     "cell_type": "heading",
     "level": 2,
     "metadata": {},
     "source": [
      "Examples for OR class"
     ]
    },
    {
     "cell_type": "code",
     "collapsed": false,
     "input": [
      "# imports\n",
      "from __future__ import print_function\n",
      "from BinPy.gates import *"
     ],
     "language": "python",
     "metadata": {},
     "outputs": [],
     "prompt_number": 1
    },
    {
     "cell_type": "code",
     "collapsed": false,
     "input": [
      "# Initializing the OR class\n",
      "\n",
      "gate = OR(0, 1)\n",
      "\n",
      "# Output of the OR gate\n",
      "\n",
      "print (gate.output())"
     ],
     "language": "python",
     "metadata": {},
     "outputs": [
      {
       "output_type": "stream",
       "stream": "stdout",
       "text": [
        "1\n"
       ]
      }
     ],
     "prompt_number": 2
    },
    {
     "cell_type": "code",
     "collapsed": false,
     "input": [
      "# Input changes\n",
      "\n",
      "# Input at index 1 is changed to 0\n",
      "\n",
      "gate.set_input(1, 0)\n",
      "\n",
      "# New Output of the OR gate\n",
      "\n",
      "print (gate.output())"
     ],
     "language": "python",
     "metadata": {},
     "outputs": [
      {
       "output_type": "stream",
       "stream": "stdout",
       "text": [
        "0\n"
       ]
      }
     ],
     "prompt_number": 3
    },
    {
     "cell_type": "code",
     "collapsed": false,
     "input": [
      "# Changing the number of inputs\n",
      "\n",
      "# No need to set the number, just change the inputs\n",
      "\n",
      "gate.set_inputs(1, 1, 1, 1)\n",
      "\n",
      "# To get the input states\n",
      "\n",
      "print (gate.get_input_states())"
     ],
     "language": "python",
     "metadata": {},
     "outputs": [
      {
       "output_type": "stream",
       "stream": "stdout",
       "text": [
        "[1, 1, 1, 1]\n"
       ]
      }
     ],
     "prompt_number": 4
    },
    {
     "cell_type": "code",
     "collapsed": false,
     "input": [
      "# New output of the OR gate\n",
      "\n",
      "print (gate.output())"
     ],
     "language": "python",
     "metadata": {},
     "outputs": [
      {
       "output_type": "stream",
       "stream": "stdout",
       "text": [
        "1\n"
       ]
      }
     ],
     "prompt_number": 5
    },
    {
     "cell_type": "code",
     "collapsed": false,
     "input": [
      "# Using Connectors as the input lines\n",
      "\n",
      "# Take a Connector\n",
      "\n",
      "conn = Connector()\n",
      "\n",
      "# Set Output of gate to Connector conn\n",
      "\n",
      "gate.set_output(conn)\n",
      "\n",
      "# Put this connector as the input to gate1\n",
      "\n",
      "gate1 = OR(conn, 0)\n",
      "\n",
      "# Output of the gate1\n",
      "\n",
      "print (gate1.output())"
     ],
     "language": "python",
     "metadata": {},
     "outputs": [
      {
       "output_type": "stream",
       "stream": "stdout",
       "text": [
        "1\n"
       ]
      }
     ],
     "prompt_number": 6
    },
    {
     "cell_type": "code",
     "collapsed": false,
     "input": [
      "# Information about gate instance\n",
      "\n",
      "print (gate)"
     ],
     "language": "python",
     "metadata": {},
     "outputs": [
      {
       "output_type": "stream",
       "stream": "stdout",
       "text": [
        "OR Gate; Output: 1; Inputs: [1, 1, 1, 1];\n"
       ]
      }
     ],
     "prompt_number": 7
    }
   ],
   "metadata": {}
  }
 ]
}