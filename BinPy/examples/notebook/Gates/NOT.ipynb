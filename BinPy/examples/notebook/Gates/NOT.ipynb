{
 "metadata": {
  "name": "",
  "signature": "sha256:8e1a101e1508f2b57e11360ba830d62b31070dc04588535ee06a54f64e55252d"
 },
 "nbformat": 3,
 "nbformat_minor": 0,
 "worksheets": [
  {
   "cells": [
    {
     "cell_type": "heading",
     "level": 2,
     "metadata": {},
     "source": [
      "Examples for NOT class"
     ]
    },
    {
     "cell_type": "code",
     "collapsed": false,
     "input": [
      "# imports\n",
      "from __future__ import print_function\n",
      "from BinPy.gates import *"
     ],
     "language": "python",
     "metadata": {},
     "outputs": [],
     "prompt_number": 1
    },
    {
     "cell_type": "code",
     "collapsed": false,
     "input": [
      "# Initializing the NOT class\n",
      "\n",
      "gate = NOT(0)\n",
      "\n",
      "# Output of the NOT gate\n",
      "\n",
      "print (gate.output())"
     ],
     "language": "python",
     "metadata": {},
     "outputs": [
      {
       "output_type": "stream",
       "stream": "stdout",
       "text": [
        "1\n"
       ]
      }
     ],
     "prompt_number": 2
    },
    {
     "cell_type": "code",
     "collapsed": false,
     "input": [
      "# Input is changed to 0\n",
      "\n",
      "gate.set_input(1)\n",
      "\n",
      "# To get the input states\n",
      "\n",
      "print (gate.get_input_states())"
     ],
     "language": "python",
     "metadata": {},
     "outputs": [
      {
       "output_type": "stream",
       "stream": "stdout",
       "text": [
        "[1]\n"
       ]
      }
     ],
     "prompt_number": 3
    },
    {
     "cell_type": "code",
     "collapsed": false,
     "input": [
      "# New Output of the NOT gate\n",
      "\n",
      "print (gate.output())"
     ],
     "language": "python",
     "metadata": {},
     "outputs": [
      {
       "output_type": "stream",
       "stream": "stdout",
       "text": [
        "0\n"
       ]
      }
     ],
     "prompt_number": 4
    },
    {
     "cell_type": "code",
     "collapsed": false,
     "input": [
      "# Using Connectors as the input lines\n",
      "\n",
      "# Take a Connector\n",
      "\n",
      "conn = Connector()\n",
      "\n",
      "# Set Output of gate to Connector conn\n",
      "\n",
      "gate.set_output(conn)\n",
      "\n",
      "# Put this connector as the input to gate1\n",
      "\n",
      "gate1 = NOT(conn)\n",
      "\n",
      "# Output of the gate1\n",
      "\n",
      "print (gate1.output())"
     ],
     "language": "python",
     "metadata": {},
     "outputs": [
      {
       "output_type": "stream",
       "stream": "stdout",
       "text": [
        "1\n"
       ]
      }
     ],
     "prompt_number": 5
    },
    {
     "cell_type": "code",
     "collapsed": false,
     "input": [
      "# Information about gate instance\n",
      "\n",
      "print (gate)"
     ],
     "language": "python",
     "metadata": {},
     "outputs": [
      {
       "output_type": "stream",
       "stream": "stdout",
       "text": [
        "NOT Gate; Output: 0; Inputs: [1];\n"
       ]
      }
     ],
     "prompt_number": 6
    }
   ],
   "metadata": {}
  }
 ]
}