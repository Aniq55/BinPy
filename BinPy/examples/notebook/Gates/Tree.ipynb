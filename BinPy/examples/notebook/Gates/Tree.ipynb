{
 "metadata": {
  "name": "",
  "signature": "sha256:4fff5a6af3595750a355f168ba80f727da0834802511a8496e9d6f0aa276b20a"
 },
 "nbformat": 3,
 "nbformat_minor": 0,
 "worksheets": [
  {
   "cells": [
    {
     "cell_type": "heading",
     "level": 2,
     "metadata": {},
     "source": [
      "Examples for Tree class."
     ]
    },
    {
     "cell_type": "code",
     "collapsed": false,
     "input": [
      "from __future__ import print_function\n",
      "from BinPy.Gates import *"
     ],
     "language": "python",
     "metadata": {},
     "outputs": [],
     "prompt_number": 1
    },
    {
     "cell_type": "code",
     "collapsed": false,
     "input": [
      "# Initializing the Tree class\n",
      "\n",
      "# Initialize some gates to form a tree\n",
      "\n",
      "# Input is of the form Tree(root element, depth of treversal)\n",
      "\n",
      "g1 = AND(0, 1)\n",
      "g2 = AND(1, 1)\n",
      "g3 = AND(g1, g2)\n",
      "\n",
      "tree = Tree(g3, 2)\n",
      "\n",
      "# Backtrack traversal of tree upto a depth given\n",
      "\n",
      "print (tree.backtrack())"
     ],
     "language": "python",
     "metadata": {},
     "outputs": [
      {
       "output_type": "stream",
       "stream": "stdout",
       "text": [
        "None\n"
       ]
      }
     ],
     "prompt_number": 2
    },
    {
     "cell_type": "code",
     "collapsed": false,
     "input": [
      "# Print tree traversed\n",
      "\n",
      "# print (tree.printTree())"
     ],
     "language": "python",
     "metadata": {},
     "outputs": [],
     "prompt_number": 3
    },
    {
     "cell_type": "code",
     "collapsed": false,
     "input": [
      "# print (tree())"
     ],
     "language": "python",
     "metadata": {},
     "outputs": [],
     "prompt_number": 4
    },
    {
     "cell_type": "code",
     "collapsed": false,
     "input": [
      "print (tree)"
     ],
     "language": "python",
     "metadata": {},
     "outputs": [
      {
       "output_type": "stream",
       "stream": "stdout",
       "text": [
        "<BinPy.Gates.tree.Tree instance at 0x7fd00f79dbd8>\n"
       ]
      }
     ],
     "prompt_number": 5
    }
   ],
   "metadata": {}
  }
 ]
}