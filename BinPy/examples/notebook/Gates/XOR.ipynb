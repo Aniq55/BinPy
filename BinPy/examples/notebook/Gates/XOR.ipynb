{
 "metadata": {
  "name": "",
  "signature": "sha256:4ee0e1f4b744ce8384c9fff271d09d5ecbdec6cff556d579198a09819b45e7e0"
 },
 "nbformat": 3,
 "nbformat_minor": 0,
 "worksheets": [
  {
   "cells": [
    {
     "cell_type": "heading",
     "level": 2,
     "metadata": {},
     "source": [
      "Examples for XOR class"
     ]
    },
    {
     "cell_type": "code",
     "collapsed": false,
     "input": [
      "# imports\n",
      "from __future__ import print_function\n",
      "from BinPy.Gates import *"
     ],
     "language": "python",
     "metadata": {},
     "outputs": [],
     "prompt_number": 1
    },
    {
     "cell_type": "code",
     "collapsed": false,
     "input": [
      "# Initializing the XOR class\n",
      "\n",
      "gate = XOR(0, 1)\n",
      "\n",
      "# Output of the XOR gate\n",
      "\n",
      "print (gate.output())"
     ],
     "language": "python",
     "metadata": {},
     "outputs": [
      {
       "output_type": "stream",
       "stream": "stdout",
       "text": [
        "1\n"
       ]
      }
     ],
     "prompt_number": 2
    },
    {
     "cell_type": "code",
     "collapsed": false,
     "input": [
      "# Input changes\n",
      "# Input at index 1 is changed to 0\n",
      "\n",
      "gate.setInput(1, 0)\n",
      "\n",
      "# New Output of the XOR gate\n",
      "\n",
      "print (gate.output())"
     ],
     "language": "python",
     "metadata": {},
     "outputs": [
      {
       "output_type": "stream",
       "stream": "stdout",
       "text": [
        "0\n"
       ]
      }
     ],
     "prompt_number": 3
    },
    {
     "cell_type": "code",
     "collapsed": false,
     "input": [
      "# Changing the number of inputs\n",
      "\n",
      "# No need to set the number, just change the inputs\n",
      "\n",
      "gate.setInputs(1, 1, 1, 1)\n",
      "\n",
      "# To get the input states\n",
      "\n",
      "print (gate.getInputStates())"
     ],
     "language": "python",
     "metadata": {},
     "outputs": [
      {
       "output_type": "stream",
       "stream": "stdout",
       "text": [
        "[1, 1, 1, 1]\n"
       ]
      }
     ],
     "prompt_number": 4
    },
    {
     "cell_type": "code",
     "collapsed": false,
     "input": [
      "# New output of the XOR gate\n",
      "\n",
      "print (gate.output())"
     ],
     "language": "python",
     "metadata": {},
     "outputs": [
      {
       "output_type": "stream",
       "stream": "stdout",
       "text": [
        "0\n"
       ]
      }
     ],
     "prompt_number": 5
    },
    {
     "cell_type": "code",
     "collapsed": false,
     "input": [
      "# Using Connectors as the input lines\n",
      "\n",
      "# Take a Connector\n",
      "\n",
      "conn = Connector()"
     ],
     "language": "python",
     "metadata": {},
     "outputs": [],
     "prompt_number": 6
    },
    {
     "cell_type": "code",
     "collapsed": false,
     "input": [
      "# Set Output of gate to Connector conn\n",
      "\n",
      "gate.setOutput(conn)"
     ],
     "language": "python",
     "metadata": {},
     "outputs": [],
     "prompt_number": 7
    },
    {
     "cell_type": "code",
     "collapsed": false,
     "input": [
      "# Put this connector as the input to gate1\n",
      "\n",
      "gate1 = XOR(conn, 0)"
     ],
     "language": "python",
     "metadata": {},
     "outputs": [],
     "prompt_number": 8
    },
    {
     "cell_type": "code",
     "collapsed": false,
     "input": [
      "# Output of the gate1\n",
      "\n",
      "print (gate1.output())"
     ],
     "language": "python",
     "metadata": {},
     "outputs": [
      {
       "output_type": "stream",
       "stream": "stdout",
       "text": [
        "0\n"
       ]
      }
     ],
     "prompt_number": 9
    },
    {
     "cell_type": "code",
     "collapsed": false,
     "input": [
      "# Information about gate instance\n",
      "\n",
      "print (gate)"
     ],
     "language": "python",
     "metadata": {},
     "outputs": [
      {
       "output_type": "stream",
       "stream": "stdout",
       "text": [
        "XOR Gate; Output: 0; Inputs: [1, 1, 1, 1];\n"
       ]
      }
     ],
     "prompt_number": 10
    }
   ],
   "metadata": {}
  }
 ]
}