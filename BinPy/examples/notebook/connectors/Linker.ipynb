{
 "metadata": {
  "name": "",
  "signature": "sha256:0b53a207cc7404309004adf6be8377519353ae45f103ee09daf4cf64b23b9648"
 },
 "nbformat": 3,
 "nbformat_minor": 0,
 "worksheets": [
  {
   "cells": [
    {
     "cell_type": "heading",
     "level": 2,
     "metadata": {},
     "source": [
      "Example for BinPy Linker module."
     ]
    },
    {
     "cell_type": "code",
     "collapsed": false,
     "input": [
      "# Imports \n",
      "\n",
      "from __future__ import print_function\n",
      "from BinPy import *"
     ],
     "language": "python",
     "metadata": {},
     "outputs": [],
     "prompt_number": 1
    },
    {
     "cell_type": "code",
     "collapsed": false,
     "input": [
      "# Initiating the Bus with connectors\n",
      "\n",
      "bit_1 = Connector(0)\n",
      "bit_2 = Connector(1)\n",
      "bit_3 = Connector(0)\n",
      "bit_4 = Connector(0)\n",
      "\n",
      "bus_a = Bus(bit_1, bit_2, bit_3, bit_4)"
     ],
     "language": "python",
     "metadata": {},
     "outputs": [],
     "prompt_number": 2
    },
    {
     "cell_type": "code",
     "collapsed": false,
     "input": [
      "# Probing the logic of the Bus\n",
      "\n",
      "bus_a.get_logic_all()"
     ],
     "language": "python",
     "metadata": {},
     "outputs": [
      {
       "metadata": {},
       "output_type": "pyout",
       "prompt_number": 3,
       "text": [
        "[0, 1, 0, 0]"
       ]
      }
     ],
     "prompt_number": 3
    },
    {
     "cell_type": "code",
     "collapsed": false,
     "input": [
      "# Linking 2 Bus-es\n",
      "\n",
      "bus_b = Bus(4)\n",
      "\n",
      "print(bus_b)"
     ],
     "language": "python",
     "metadata": {},
     "outputs": [
      {
       "output_type": "stream",
       "stream": "stdout",
       "text": [
        "[None, None, None, None]\n"
       ]
      }
     ],
     "prompt_number": 4
    },
    {
     "cell_type": "code",
     "collapsed": false,
     "input": [
      "# Add a link from bus_a to bus_b\n",
      "\n",
      "AutoUpdater.add_link(bus_a, bus_b)"
     ],
     "language": "python",
     "metadata": {},
     "outputs": [],
     "prompt_number": 5
    },
    {
     "cell_type": "code",
     "collapsed": false,
     "input": [
      "# Run this after a leaving a minor update interval\n",
      "print (bus_b)"
     ],
     "language": "python",
     "metadata": {},
     "outputs": [
      {
       "output_type": "stream",
       "stream": "stdout",
       "text": [
        "[0, 1, 0, 0]\n"
       ]
      }
     ],
     "prompt_number": 6
    },
    {
     "cell_type": "code",
     "collapsed": false,
     "input": [
      "# More complex connections\n",
      "\n",
      "CNTRL_V = Bus(4)\n",
      "\n",
      "CNTRL_V.set_logic_all(1,1,1,1)\n",
      "\n",
      "VCC = Bus(Connector(voltage = 5.2), Connector(voltage=0))"
     ],
     "language": "python",
     "metadata": {},
     "outputs": [],
     "prompt_number": 7
    },
    {
     "cell_type": "code",
     "collapsed": false,
     "input": [
      "SLAVE0, SLAVE1 = Bus(4), Bus(4)\n",
      "\n",
      "SLAVE0.set_type(analog = True)\n",
      "SLAVE1.set_type(analog = True)\n",
      "\n",
      "# Connecting the first two bits of CNTRL_V to the middle two bits of SLAVE0\n",
      "AutoUpdater.add_link(CNTRL_V[:2], SLAVE0[1:-1])\n",
      "\n",
      "# Connecting the last two bits of CNTRL_V to the middle two bits of SLAVE1\n",
      "AutoUpdater.add_link(CNTRL_V[-2:], SLAVE1[1:-1])\n",
      "\n",
      "# Impressing 5v and 0v on the SLAVE0 Bus\n",
      "AutoUpdater.add_link(VCC[0], SLAVE0[0])\n",
      "AutoUpdater.add_link(VCC[1], SLAVE0[-1])\n",
      "\n",
      "# Impressing 5v and 0v on the SLAVE1 Bus\n",
      "AutoUpdater.add_link(VCC[0], SLAVE1[0])\n",
      "AutoUpdater.add_link(VCC[1], SLAVE1[-1])"
     ],
     "language": "python",
     "metadata": {},
     "outputs": [],
     "prompt_number": 8
    },
    {
     "cell_type": "code",
     "collapsed": false,
     "input": [
      "print (SLAVE0.get_voltage_all())"
     ],
     "language": "python",
     "metadata": {},
     "outputs": [
      {
       "output_type": "stream",
       "stream": "stdout",
       "text": [
        "[5.2, 0.0, 0.0, 0.0]\n"
       ]
      }
     ],
     "prompt_number": 9
    },
    {
     "cell_type": "code",
     "collapsed": false,
     "input": [
      "print (SLAVE1.get_voltage_all())"
     ],
     "language": "python",
     "metadata": {},
     "outputs": [
      {
       "output_type": "stream",
       "stream": "stdout",
       "text": [
        "[5.2, 0.0, 5.0, 0.0]\n"
       ]
      }
     ],
     "prompt_number": 10
    },
    {
     "cell_type": "code",
     "collapsed": false,
     "input": [
      "CNTRL_V.set_voltage_all(5.0, 6.0, 2.0, 1.1)"
     ],
     "language": "python",
     "metadata": {},
     "outputs": [],
     "prompt_number": 11
    },
    {
     "cell_type": "code",
     "collapsed": false,
     "input": [
      "# The Slave Bus-es have been updated with the updated voltage in CNTRL_V\n",
      "\n",
      "print (SLAVE0.get_voltage_all())"
     ],
     "language": "python",
     "metadata": {},
     "outputs": [
      {
       "output_type": "stream",
       "stream": "stdout",
       "text": [
        "[5.2, 5.0, 6.0, 0.0]\n"
       ]
      }
     ],
     "prompt_number": 12
    },
    {
     "cell_type": "code",
     "collapsed": false,
     "input": [
      "print (SLAVE1.get_voltage_all())"
     ],
     "language": "python",
     "metadata": {},
     "outputs": [
      {
       "output_type": "stream",
       "stream": "stdout",
       "text": [
        "[5.2, 2.0, 1.1, 0.0]\n"
       ]
      }
     ],
     "prompt_number": 14
    },
    {
     "cell_type": "code",
     "collapsed": false,
     "input": [
      "# Unlinking the SLAVE0 from CNTRL_V\n",
      "\n",
      "AutoUpdater.remove_link(SLAVE0[1:-1]) # Only the middle 2 ports are connected to CNTRL_V\n",
      "# VCC is still connected to SLAVE0"
     ],
     "language": "python",
     "metadata": {},
     "outputs": [],
     "prompt_number": 15
    },
    {
     "cell_type": "code",
     "collapsed": false,
     "input": [
      "CNTRL_V.set_voltage_all(3.0, 2, 1, 6.2)"
     ],
     "language": "python",
     "metadata": {},
     "outputs": [],
     "prompt_number": 16
    },
    {
     "cell_type": "code",
     "collapsed": false,
     "input": [
      "# SLAVE0 Retains the last held value\n",
      "\n",
      "print (SLAVE0.get_voltage_all())"
     ],
     "language": "python",
     "metadata": {},
     "outputs": [
      {
       "output_type": "stream",
       "stream": "stdout",
       "text": [
        "[5.2, 5.0, 6.0, 0.0]\n"
       ]
      }
     ],
     "prompt_number": 17
    },
    {
     "cell_type": "code",
     "collapsed": false,
     "input": [
      "# SLAVE1 however is updated\n",
      "\n",
      "print (SLAVE1.get_voltage_all())"
     ],
     "language": "python",
     "metadata": {},
     "outputs": [
      {
       "output_type": "stream",
       "stream": "stdout",
       "text": [
        "[5.2, 1.0, 6.2, 0.0]\n"
       ]
      }
     ],
     "prompt_number": 19
    },
    {
     "cell_type": "code",
     "collapsed": false,
     "input": [
      "# Change in VCC is reflected to both SLAVE0 and SLAVE1\n",
      "\n",
      "VCC[0].set_voltage(5.5)\n",
      "\n",
      "print (SLAVE0[0].get_voltage())\n",
      "\n",
      "print (SLAVE1[0].get_voltage())"
     ],
     "language": "python",
     "metadata": {},
     "outputs": [
      {
       "output_type": "stream",
       "stream": "stdout",
       "text": [
        "5.5\n",
        "5.5\n"
       ]
      }
     ],
     "prompt_number": 25
    }
   ],
   "metadata": {}
  }
 ]
}