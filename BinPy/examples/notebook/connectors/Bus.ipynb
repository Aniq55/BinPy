{
 "metadata": {
  "name": "",
  "signature": "sha256:741347970bf4fdcacf64cdee1a00c2b1f6c0fc74836b9537ccc487ad473f1a70"
 },
 "nbformat": 3,
 "nbformat_minor": 0,
 "worksheets": [
  {
   "cells": [
    {
     "cell_type": "heading",
     "level": 2,
     "metadata": {},
     "source": [
      "Example for Bus"
     ]
    },
    {
     "cell_type": "code",
     "collapsed": false,
     "input": [
      "# Imports \n",
      "\n",
      "from __future__ import print_function\n",
      "from BinPy import Bus, Connector"
     ],
     "language": "python",
     "metadata": {},
     "outputs": [],
     "prompt_number": 1
    },
    {
     "cell_type": "code",
     "collapsed": false,
     "input": [
      "# Initiating the Bus with connectors\n",
      "\n",
      "bit_1 = Connector(0)\n",
      "bit_2 = Connector(1)\n",
      "bit_3 = Connector(0)\n",
      "bit_4 = Connector(0)\n",
      "\n",
      "bus_a = Bus(bit_1, bit_2, bit_3, bit_4)"
     ],
     "language": "python",
     "metadata": {},
     "outputs": [],
     "prompt_number": 2
    },
    {
     "cell_type": "code",
     "collapsed": false,
     "input": [
      "# Probing the logic of the Bus\n",
      "\n",
      "bus_a.get_logic_all()"
     ],
     "language": "python",
     "metadata": {},
     "outputs": [
      {
       "metadata": {},
       "output_type": "pyout",
       "prompt_number": 3,
       "text": [
        "[0, 1, 0, 0]"
       ]
      }
     ],
     "prompt_number": 3
    },
    {
     "cell_type": "code",
     "collapsed": false,
     "input": [
      "# Probing the voltage of the Bus\n",
      "\n",
      "bus_a.get_voltage_all()"
     ],
     "language": "python",
     "metadata": {},
     "outputs": [
      {
       "metadata": {},
       "output_type": "pyout",
       "prompt_number": 4,
       "text": [
        "[0.0, 5.0, 0.0, 0.0]"
       ]
      }
     ],
     "prompt_number": 4
    },
    {
     "cell_type": "code",
     "collapsed": false,
     "input": [
      "# Creating another Bus from an existing Bus\n",
      "\n",
      "bus_b = Bus(bus_a)\n",
      "\n",
      "bus_b.get_voltage_all()"
     ],
     "language": "python",
     "metadata": {},
     "outputs": [
      {
       "metadata": {},
       "output_type": "pyout",
       "prompt_number": 5,
       "text": [
        "[0.0, 5.0, 0.0, 0.0]"
       ]
      }
     ],
     "prompt_number": 5
    },
    {
     "cell_type": "code",
     "collapsed": false,
     "input": [
      "# Concatenating the two Bus-es\n",
      "\n",
      "bus_c = bus_a + bus_b\n",
      "\n",
      "bus_c"
     ],
     "language": "python",
     "metadata": {},
     "outputs": [
      {
       "metadata": {},
       "output_type": "pyout",
       "prompt_number": 6,
       "text": [
        "[0, 1, 0, 0, 0, 1, 0, 0]"
       ]
      }
     ],
     "prompt_number": 6
    },
    {
     "cell_type": "code",
     "collapsed": false,
     "input": [
      "# Copying values between buses\n",
      "\n",
      "bus_d = Bus(8) # 8 indicates the length of the Bus. By default all busses will be digital in type\n",
      "\n",
      "print (bus_d)"
     ],
     "language": "python",
     "metadata": {},
     "outputs": [
      {
       "output_type": "stream",
       "stream": "stdout",
       "text": [
        "[None, None, None, None, None, None, None, None]\n"
       ]
      }
     ],
     "prompt_number": 7
    },
    {
     "cell_type": "code",
     "collapsed": false,
     "input": [
      "bus_d.copy_values_from(bus_c)\n",
      "print (bus_d)"
     ],
     "language": "python",
     "metadata": {},
     "outputs": [
      {
       "output_type": "stream",
       "stream": "stdout",
       "text": [
        "[0, 1, 0, 0, 0, 1, 0, 0]\n"
       ]
      }
     ],
     "prompt_number": 8
    },
    {
     "cell_type": "code",
     "collapsed": false,
     "input": [
      "# Iterating through a bus and setting names ( TAG's ) for connectors\n",
      "i = 7\n",
      "for connector in bus_d:\n",
      "    connector.set_name(\"B\"+str(i))\n",
      "    print ( connector )\n",
      "    i -= 1"
     ],
     "language": "python",
     "metadata": {},
     "outputs": [
      {
       "output_type": "stream",
       "stream": "stdout",
       "text": [
        "Connector; Name: B7; Index: 38; State: 0\n",
        "Connector; Name: B6; Index: 39; State: 1\n",
        "Connector; Name: B5; Index: 40; State: 0\n",
        "Connector; Name: B4; Index: 41; State: 0\n",
        "Connector; Name: B3; Index: 42; State: 0\n",
        "Connector; Name: B2; Index: 43; State: 1\n",
        "Connector; Name: B1; Index: 44; State: 0\n",
        "Connector; Name: B0; Index: 45; State: 0\n"
       ]
      }
     ],
     "prompt_number": 9
    },
    {
     "cell_type": "code",
     "collapsed": false,
     "input": [
      "# Probing the connector tags\n",
      "    \n",
      "print (\" \".join( [ connector.name for connector in bus_d ]))"
     ],
     "language": "python",
     "metadata": {},
     "outputs": [
      {
       "output_type": "stream",
       "stream": "stdout",
       "text": [
        "B7 B6 B5 B4 B3 B2 B1 B0\n"
       ]
      }
     ],
     "prompt_number": 10
    },
    {
     "cell_type": "code",
     "collapsed": false,
     "input": [
      "# Analog Bus\n",
      "\n",
      "VCC = Bus(Connector(voltage=5.2), Connector(voltage=0))\n",
      "\n",
      "print (VCC)"
     ],
     "language": "python",
     "metadata": {},
     "outputs": [
      {
       "output_type": "stream",
       "stream": "stdout",
       "text": [
        "[5.2, 0.0]\n"
       ]
      }
     ],
     "prompt_number": 11
    },
    {
     "cell_type": "code",
     "collapsed": false,
     "input": [
      "# Slicing Bus-es\n",
      "\n",
      "bus_e = Bus(bus_d[:-4])\n",
      "\n",
      "print (bus_e == bus_b)"
     ],
     "language": "python",
     "metadata": {},
     "outputs": [
      {
       "output_type": "stream",
       "stream": "stdout",
       "text": [
        "True\n"
       ]
      }
     ],
     "prompt_number": 12
    },
    {
     "cell_type": "code",
     "collapsed": false,
     "input": [
      "# Circulary rotating the bits of the Bus-es\n",
      "\n",
      "print (\"Before rotation, bus_e : \", bus_e)\n",
      "\n",
      "print (\"After circularly rotating right by 3 positions, bits of bus_e: \", bus_e >> 3) \n",
      "\n",
      "# Note that this returns a list of the Connectors and not a bus object. Use Bus(bus_e>>2) to return a Bus object\n",
      "\n",
      "print (\"After circularly rotating left by 3 positions, bits of bus_e: \", bus_e << 3)"
     ],
     "language": "python",
     "metadata": {},
     "outputs": [
      {
       "output_type": "stream",
       "stream": "stdout",
       "text": [
        "Before rotation, bus_e :  [0, 1, 0, 0]\n",
        "After circularly rotating right by 3 positions, bits of bus_e:  [1, 0, 0, 0]\n",
        "After circularly rotating left by 3 positions, bits of bus_e:  [0, 0, 1, 0]\n"
       ]
      }
     ],
     "prompt_number": 13
    }
   ],
   "metadata": {}
  }
 ]
}