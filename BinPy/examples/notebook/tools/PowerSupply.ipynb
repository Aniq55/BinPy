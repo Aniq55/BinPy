{
 "metadata": {
  "name": "",
  "signature": "sha256:fdc3f3da2e8dea48d6016e20871783ef47e47a9f0e3d211f4e39f8e819d286f8"
 },
 "nbformat": 3,
 "nbformat_minor": 0,
 "worksheets": [
  {
   "cells": [
    {
     "cell_type": "markdown",
     "metadata": {},
     "source": [
      "Example to show the usage of PowerSupply"
     ]
    },
    {
     "cell_type": "code",
     "collapsed": false,
     "input": [
      "from __future__ import print_function\n",
      "from BinPy.tools import *"
     ],
     "language": "python",
     "metadata": {},
     "outputs": [],
     "prompt_number": 1
    },
    {
     "cell_type": "code",
     "collapsed": false,
     "input": [
      "# Usage of PowerSource and Ground classes:\n",
      "# Creating Power Source POW and Ground terminal, GND\n",
      "\n",
      "POW = PowerSource()\n",
      "GND = Ground()"
     ],
     "language": "python",
     "metadata": {},
     "outputs": [],
     "prompt_number": 2
    },
    {
     "cell_type": "code",
     "collapsed": false,
     "input": [
      "# Creating connectors a,b,c\n",
      "\n",
      "a = Connector()\n",
      "b = Connector()\n",
      "c = Connector()"
     ],
     "language": "python",
     "metadata": {},
     "outputs": [],
     "prompt_number": 3
    },
    {
     "cell_type": "code",
     "collapsed": false,
     "input": [
      "# Creating AND gate with inputs a and b and setting it output as c\n",
      "AND1 = AND(a, b)\n",
      "AND1.setOutput(c)"
     ],
     "language": "python",
     "metadata": {},
     "outputs": [],
     "prompt_number": 4
    },
    {
     "cell_type": "code",
     "collapsed": false,
     "input": [
      "# Connecting the connectors a, b to the Power Source\n",
      "POW.connect(a)\n",
      "POW.connect(b)\n",
      "\n",
      "# a and b connected to Power Source, POW\n",
      "\n",
      "# Printing Status of AND1\n",
      "\n",
      "print('The inputs to the AND1 are: ' + str(AND1.getInputStates()))\n",
      "\n",
      "print('The output of AND1 is: ' + str(AND1.output()))"
     ],
     "language": "python",
     "metadata": {},
     "outputs": [
      {
       "output_type": "stream",
       "stream": "stdout",
       "text": [
        "The inputs to the AND1 are: [1, 1]\n",
        "The output of AND1 is: 1\n"
       ]
      }
     ],
     "prompt_number": 5
    },
    {
     "cell_type": "code",
     "collapsed": false,
     "input": [
      "# Disconnecting b from Power Source and printing inputs of AND1\n",
      "\n",
      "print('\\nAfter disconnecting b from the Power Source, POW')"
     ],
     "language": "python",
     "metadata": {},
     "outputs": [
      {
       "output_type": "stream",
       "stream": "stdout",
       "text": [
        "\n",
        "After disconnecting b from the Power Source, POW\n"
       ]
      }
     ],
     "prompt_number": 6
    },
    {
     "cell_type": "code",
     "collapsed": false,
     "input": [
      "POW.disconnect(b)\n",
      "\n",
      "print('The inputs of the AND1 are: ' + str(AND1.getInputStates()))"
     ],
     "language": "python",
     "metadata": {},
     "outputs": [
      {
       "output_type": "stream",
       "stream": "stdout",
       "text": [
        "The inputs of the AND1 are: [1, None]\n"
       ]
      }
     ],
     "prompt_number": 7
    },
    {
     "cell_type": "code",
     "collapsed": false,
     "input": [
      "# Conneting b to Ground and printing the status AND1\n",
      "\n",
      "print('\\nAfter connecting b to the Ground, GND')\n",
      "\n",
      "GND.connect(b)"
     ],
     "language": "python",
     "metadata": {},
     "outputs": [
      {
       "output_type": "stream",
       "stream": "stdout",
       "text": [
        "\n",
        "After connecting b to the Ground, GND\n"
       ]
      }
     ],
     "prompt_number": 8
    },
    {
     "cell_type": "code",
     "collapsed": false,
     "input": [
      "print('The inputs of the AND1 are: ' + str(AND1.getInputStates()))\n",
      "\n",
      "print('The output of AND1 is: ' + str(AND1.output()))"
     ],
     "language": "python",
     "metadata": {},
     "outputs": [
      {
       "output_type": "stream",
       "stream": "stdout",
       "text": [
        "The inputs of the AND1 are: [1, 0]\n",
        "The output of AND1 is: 0\n"
       ]
      }
     ],
     "prompt_number": 9
    }
   ],
   "metadata": {}
  }
 ]
}