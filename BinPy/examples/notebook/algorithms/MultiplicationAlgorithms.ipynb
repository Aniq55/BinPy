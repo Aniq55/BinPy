{
 "metadata": {
  "name": "",
  "signature": "sha256:566037042e95a802165670605abbc800bab46539a431af52365462953693a0d3"
 },
 "nbformat": 3,
 "nbformat_minor": 0,
 "worksheets": [
  {
   "cells": [
    {
     "cell_type": "code",
     "collapsed": false,
     "input": [
      "# Booth's Multiplication algorithm\n",
      "from BinPy.algorithms import *\n"
     ],
     "language": "python",
     "metadata": {},
     "outputs": []
    }
   ],
   "metadata": {}
  }
 ]
}