{
 "metadata": {
  "name": "",
  "signature": "sha256:4dd7afb32f009d7d600fba4682a88dd9002e84c87731f74d308ebf4258dda772"
 },
 "nbformat": 3,
 "nbformat_minor": 0,
 "worksheets": [
  {
   "cells": [
    {
     "cell_type": "heading",
     "level": 2,
     "metadata": {},
     "source": [
      "Example for JKFlipFlop"
     ]
    },
    {
     "cell_type": "code",
     "collapsed": false,
     "input": [
      "from __future__ import print_function\n",
      "from BinPy.Sequential.sequential import JKFlipFlop\n",
      "from BinPy.tools.clock import Clock\n",
      "from BinPy.Gates import Connector\n",
      "from BinPy.tools.oscilloscope import Oscilloscope"
     ],
     "language": "python",
     "metadata": {},
     "outputs": [],
     "prompt_number": 1
    },
    {
     "cell_type": "code",
     "collapsed": false,
     "input": [
      "j = Connector(1)\n",
      "k = Connector(0)\n",
      "\n",
      "p = Connector(0)\n",
      "q = Connector(1)"
     ],
     "language": "python",
     "metadata": {},
     "outputs": [],
     "prompt_number": 2
    },
    {
     "cell_type": "code",
     "collapsed": false,
     "input": [
      "# Initialize the clock\n",
      "clock = Clock(1, 4)\n",
      "clock.start()\n",
      "\n",
      "# A clock of 4 hertz frequency initialized to 1\n",
      "clk_conn = clock.A\n",
      "\n",
      "enable = Connector(1)\n",
      "\n",
      "jkff = JKFlipFlop(j, k, enable, clk_conn, clear=enable)\n",
      "\n",
      "# To connect outputs use s.setOutputs(op1,op2)\n",
      "jkff.setOutputs(A=p, B=q)"
     ],
     "language": "python",
     "metadata": {},
     "outputs": [],
     "prompt_number": 3
    },
    {
     "cell_type": "code",
     "collapsed": false,
     "input": [
      "# Initiating the oscilloscope\n",
      "\n",
      "o = Oscilloscope((clk_conn, 'CLK'), (j, 'J'), (\n",
      "    k, 'k'), (p, 'OUT'), (q, 'OUT!'), (enable, 'ENABLE'))\n",
      "\n",
      "o.start()\n",
      "o.setScale(0.02)  # Set scale by trial and error.\n",
      "o.setWidth(100)\n",
      "o.unhold()"
     ],
     "language": "python",
     "metadata": {},
     "outputs": [
      {
       "output_type": "stream",
       "stream": "stdout",
       "text": [
        "\u001b[0m\n",
        "\u001b[0m\n"
       ]
      }
     ],
     "prompt_number": 4
    },
    {
     "cell_type": "code",
     "collapsed": false,
     "input": [
      "print (\"SET STATE - J = 1, K = 0\")\n",
      "\n",
      "# Set State\n",
      "j.state = 1\n",
      "k.state = 0\n",
      "\n",
      "# The same thing can also be done by --> jkff.setInputs(j = 1, k = 0)\n",
      "while True:\n",
      "    if clk_conn.state == 0:\n",
      "        # Falling edge will trigger the FF\n",
      "        jkff.trigger()\n",
      "        break\n",
      "print (jkff.state())\n",
      "\n",
      "# Sending a positive edge to jkff\n",
      "while True:\n",
      "    if clk_conn.state == 1:\n",
      "        # Falling edge will trigger the FF\n",
      "        jkff.trigger()\n",
      "        break"
     ],
     "language": "python",
     "metadata": {},
     "outputs": [
      {
       "output_type": "stream",
       "stream": "stdout",
       "text": [
        "SET STATE - J = 1, K = 0\n",
        "[1, 0]\n"
       ]
      }
     ],
     "prompt_number": 5
    },
    {
     "cell_type": "code",
     "collapsed": false,
     "input": [
      "print (\"RESET STATE - J = 0, K = 1\")\n",
      "\n",
      "# Reset State\n",
      "j.state = 0\n",
      "k.state = 1\n",
      "\n",
      "# The same thing can also be done by --> jkff.setInputs(j = 1, k = 0)\n",
      "while True:\n",
      "    if clk_conn.state == 0:\n",
      "        # Falling edge will trigger the FF\n",
      "        jkff.trigger()\n",
      "        break\n",
      "\n",
      "        print (\"[Printing the output using the output connectors:]\\n\", p(), q())\n",
      "\n",
      "# Sending a positive edge to jkff\n",
      "while True:\n",
      "    if clk_conn.state == 1:\n",
      "        # Falling edge will trigger the FF\n",
      "        jkff.trigger()\n",
      "        break"
     ],
     "language": "python",
     "metadata": {},
     "outputs": [
      {
       "output_type": "stream",
       "stream": "stdout",
       "text": [
        "RESET STATE - J = 0, K = 1\n"
       ]
      }
     ],
     "prompt_number": 6
    },
    {
     "cell_type": "code",
     "collapsed": false,
     "input": [
      "print (\"TOGGLE STATE - J = 1, K = 1\")\n",
      "# Toggle State\n",
      "j.state = 1\n",
      "k.state = 1\n",
      "# The same thing can also be done by --> jkff.setInputs(j = 1, k = 0)\n",
      "while True:\n",
      "    if clk_conn.state == 0:\n",
      "        # Falling edge will trigger the FF\n",
      "        jkff.trigger()\n",
      "        break\n",
      "print (jkff.state())\n",
      "\n",
      "# Sending a positive edge to jkff\n",
      "while True:\n",
      "    if clk_conn.state == 1:\n",
      "        # Falling edge will trigger the FF\n",
      "        jkff.trigger()\n",
      "        break"
     ],
     "language": "python",
     "metadata": {},
     "outputs": [
      {
       "output_type": "stream",
       "stream": "stdout",
       "text": [
        "TOGGLE STATE - J = 1, K = 1\n",
        "[1, 0]"
       ]
      },
      {
       "output_type": "stream",
       "stream": "stdout",
       "text": [
        "\n"
       ]
      }
     ],
     "prompt_number": 7
    },
    {
     "cell_type": "code",
     "collapsed": false,
     "input": [
      "print (\"NO CHANGE STATE - J = 0, K = 0\")\n",
      "# No change state\n",
      "j.state = 0\n",
      "k.state = 0\n",
      "# The same thing can also be done by --> jkff.setInputs(j = 1, k = 0)\n",
      "while True:\n",
      "    if clk_conn.state == 0:\n",
      "        # Falling edge will trigger the FF\n",
      "        jkff.trigger()\n",
      "        break\n",
      "print (jkff.state())\n",
      "\n",
      "# Sending a positive edge to jkff\n",
      "while True:\n",
      "    if clk_conn.state == 1:\n",
      "        # Falling edge will trigger the FF\n",
      "        jkff.trigger()\n",
      "        break\n",
      "\n",
      "# To connect different set of connectors use s.setInputs(conn1,conn2,enab)"
     ],
     "language": "python",
     "metadata": {},
     "outputs": [
      {
       "output_type": "stream",
       "stream": "stdout",
       "text": [
        "NO CHANGE STATE - J = 0, K = 0\n",
        "[1, 0]"
       ]
      },
      {
       "output_type": "stream",
       "stream": "stdout",
       "text": [
        "\n"
       ]
      }
     ],
     "prompt_number": 8
    },
    {
     "cell_type": "code",
     "collapsed": false,
     "input": [
      "# Display the oscilloscope\n",
      "o.display()"
     ],
     "language": "python",
     "metadata": {},
     "outputs": [
      {
       "output_type": "stream",
       "stream": "stdout",
       "text": [
        "\u001b[0m===================================================================================================================\n",
        "BinPy - Oscilloscope\n",
        "===================================================================================================================\n",
        "                                                                               SCALE - X-AXIS : 1 UNIT WIDTH = 0.02\n",
        "===================================================================================================================\n",
        "          \u2502\n",
        "          \u2502\n",
        "          \u2502                   \u250c\u2500\u2500\u2500\u2500\u2500\u2500\u2500\u2500\u2500\u2500\u2500\u2500\u2510           \u250c\u2500\u2500\u2500\u2500\u2500\u2500\u2500\u2500\u2500\u2500\u2510           \u250c\u2500\u2500\u2500\u2500\u2500\u2500\u2500\u2500\u2500\u2500\u2500\u2510                     \n",
        "     CLK  \u2502                   \u2502            \u2502           \u2502          \u2502           \u2502           \u2502                     \n",
        "          \u2500 \u2500\u2500\u2500\u2500\u2500\u2500\u2500\u2500\u2500\u2500\u2500\u2500\u2500\u2500\u2500\u2500\u2500\u2500\u2518            \u2514\u2500\u2500\u2500\u2500\u2500\u2500\u2500\u2500\u2500\u2500\u2500\u2518          \u2514\u2500\u2500\u2500\u2500\u2500\u2500\u2500\u2500\u2500\u2500\u2500\u2518           \u2514\u2500\u2500\u2500\u2500\u2500\u2500\u2500\u2500\u2500\u2500\u2500\u2500\u2500\u2500\u2500\u2500\u2500\u2500\u2500\u2500\u2500\n",
        "          \u2502\n",
        "          \u2502\n",
        "          \u2502\n",
        "          \u2502\n",
        "          \u2502 \u250c\u2500\u2500\u2500\u2500\u2500\u2500\u2500\u2500\u2500\u2500\u2500\u2500\u2500\u2500\u2500\u2500\u2500\u2500\u2510                       \u250c\u2500\u2500\u2500\u2500\u2500\u2500\u2500\u2500\u2500\u2500\u2500\u2500\u2500\u2500\u2500\u2500\u2500\u2500\u2500\u2500\u2500\u2500\u2500\u2510                                \n",
        "       J  \u2502 \u2502                  \u2502                       \u2502                       \u2502                                \n",
        "          \u2500 \u2518                  \u2514\u2500\u2500\u2500\u2500\u2500\u2500\u2500\u2500\u2500\u2500\u2500\u2500\u2500\u2500\u2500\u2500\u2500\u2500\u2500\u2500\u2500\u2500\u2500\u2518                       \u2514\u2500\u2500\u2500\u2500\u2500\u2500\u2500\u2500\u2500\u2500\u2500\u2500\u2500\u2500\u2500\u2500\u2500\u2500\u2500\u2500\u2500\u2500\u2500\u2500\u2500\u2500\u2500\u2500\u2500\u2500\u2500\u2500\n",
        "          \u2502\n",
        "          \u2502\n",
        "          \u2502\n",
        "          \u2502\n",
        "          \u2502                    \u250c\u2500\u2500\u2500\u2500\u2500\u2500\u2500\u2500\u2500\u2500\u2500\u2500\u2500\u2500\u2500\u2500\u2500\u2500\u2500\u2500\u2500\u2500\u2500\u2500\u2500\u2500\u2500\u2500\u2500\u2500\u2500\u2500\u2500\u2500\u2500\u2500\u2500\u2500\u2500\u2500\u2500\u2500\u2500\u2500\u2500\u2500\u2500\u2510                                \n",
        "       k  \u2502                    \u2502                                               \u2502                                \n",
        "          \u2500 \u2500\u2500\u2500\u2500\u2500\u2500\u2500\u2500\u2500\u2500\u2500\u2500\u2500\u2500\u2500\u2500\u2500\u2500\u2500\u2518                                               \u2514\u2500\u2500\u2500\u2500\u2500\u2500\u2500\u2500\u2500\u2500\u2500\u2500\u2500\u2500\u2500\u2500\u2500\u2500\u2500\u2500\u2500\u2500\u2500\u2500\u2500\u2500\u2500\u2500\u2500\u2500\u2500\u2500\n",
        "          \u2502\n",
        "          \u2502\n",
        "          \u2502\n",
        "          \u2502\n",
        "          \u2502      \u250c\u2500\u2500\u2500\u2500\u2500\u2500\u2500\u2500\u2500\u2500\u2500\u2500\u2500\u2500\u2500\u2500\u2500\u2500\u2500\u2500\u2500\u2500\u2500\u2500\u2500\u2510                      \u250c\u2500\u2500\u2500\u2500\u2500\u2500\u2500\u2500\u2500\u2500\u2500\u2500\u2500\u2500\u2500\u2500\u2500\u2500\u2500\u2500\u2500\u2500\u2500\u2500\u2500\u2500\u2500\u2500\u2500\u2500\u2500\u2500\u2500\u2500\u2500\u2510         \n",
        "     OUT  \u2502      \u2502                         \u2502                      \u2502                                   \u2502         \n",
        "          \u2500 \u2500\u2500\u2500\u2500\u2500\u2518                         \u2514\u2500\u2500\u2500\u2500\u2500\u2500\u2500\u2500\u2500\u2500\u2500\u2500\u2500\u2500\u2500\u2500\u2500\u2500\u2500\u2500\u2500\u2500\u2518                                   \u2514\u2500\u2500\u2500\u2500\u2500\u2500\u2500\u2500\u2500\n",
        "          \u2502\n",
        "          \u2502\n",
        "          \u2502\n",
        "          \u2502\n",
        "          \u2502 \u250c\u2500\u2500\u2500\u2500\u2510                         \u250c\u2500\u2500\u2500\u2500\u2500\u2500\u2500\u2500\u2500\u2500\u2500\u2500\u2500\u2500\u2500\u2500\u2500\u2500\u2500\u2500\u2500\u2500\u2510                                             \n",
        "    OUT!  \u2502 \u2502    \u2502                         \u2502                      \u2502                                             \n",
        "          \u2500 \u2518    \u2514\u2500\u2500\u2500\u2500\u2500\u2500\u2500\u2500\u2500\u2500\u2500\u2500\u2500\u2500\u2500\u2500\u2500\u2500\u2500\u2500\u2500\u2500\u2500\u2500\u2500\u2518                      \u2514\u2500\u2500\u2500\u2500\u2500\u2500\u2500\u2500\u2500\u2500\u2500\u2500\u2500\u2500\u2500\u2500\u2500\u2500\u2500\u2500\u2500\u2500\u2500\u2500\u2500\u2500\u2500\u2500\u2500\u2500\u2500\u2500\u2500\u2500\u2500\u2500\u2500\u2500\u2500\u2500\u2500\u2500\u2500\u2500\u2500\n",
        "          \u2502\n",
        "          \u2502\n",
        "          \u2502\n",
        "          \u2502\n",
        "          \u2502 \u250c\u2500\u2500\u2500\u2500\u2500\u2500\u2500\u2500\u2500\u2500\u2500\u2500\u2500\u2500\u2500\u2500\u2500\u2500\u2500\u2500\u2500\u2500\u2500\u2500\u2500\u2500\u2500\u2500\u2500\u2500\u2500\u2500\u2500\u2500\u2500\u2500\u2500\u2500\u2500\u2500\u2500\u2500\u2500\u2500\u2500\u2500\u2500\u2500\u2500\u2500\u2500\u2500\u2500\u2500\u2500\u2500\u2500\u2500\u2500\u2500\u2500\u2500\u2500\u2500\u2500\u2500\u2500\u2500\u2500\u2500\u2500\u2500\u2500\u2500\u2500\u2500\u2500\u2500\u2500\u2500\u2500\u2500\u2500\u2500\u2500\u2500\u2500\u2500\u2500\u2510         \n",
        "   ENABL  \u2502 \u2502                                                                                         \u2502         \n",
        "          \u2500 \u2518                                                                                         \u2514\u2500\u2500\u2500\u2500\u2500\u2500\u2500\u2500\u2500\n",
        "          \u2502\n",
        "          \u2502\n",
        "\u2502\u2502\u2502\u2502\u2502\u2502\u2502\u2502\u2502\u2502\u2502\u2502\u2502\u2502\u2502\u2502\u2502\u2502\u2502\u2502\u2502\u2502\u2502\u2502\u2502\u2502\u2502\u2502\u2502\u2502\u2502\u2502\u2502\u2502\u2502\u2502\u2502\u2502\u2502\u2502\u2502\u2502\u2502\u2502\u2502\u2502\u2502\u2502\u2502\u2502\u2502\u2502\u2502\u2502\u2502\u2502\u2502\u2502\u2502\u2502\u2502\u2502\u2502\u2502\u2502\u2502\u2502\u2502\u2502\u2502\u2502\u2502\u2502\u2502\u2502\u2502\u2502\u2502\u2502\u2502\u2502\u2502\u2502\u2502\u2502\u2502\u2502\u2502\u2502\u2502\u2502\u2502\u2502\u2502\u2502\u2502\u2502\u2502\u2502\u2502\u2502\u2502\u2502\u2502\u2502\u2502\u2502\u2502\u2502\u2502\u2502\u2502\u2502\u2502\u2502\n",
        "\u2500\u2500\u2500\u2500\u2500\u2500\u2500\u2500\u2500\u2500\u2500\u2500\u2500\u2500\u2500\u2500\u2500\u2500\u2500\u2500\u2500\u2500\u2500\u2500\u2500\u2500\u2500\u2500\u2500\u2500\u2500\u2500\u2500\u2500\u2500\u2500\u2500\u2500\u2500\u2500\u2500\u2500\u2500\u2500\u2500\u2500\u2500\u2500\u2500\u2500\u2500\u2500\u2500\u2500\u2500\u2500\u2500\u2500\u2500\u2500\u2500\u2500\u2500\u2500\u2500\u2500\u2500\u2500\u2500\u2500\u2500\u2500\u2500\u2500\u2500\u2500\u2500\u2500\u2500\u2500\u2500\u2500\u2500\u2500\u2500\u2500\u2500\u2500\u2500\u2500\u2500\u2500\u2500\u2500\u2500\u2500\u2500\u2500\u2500\u2500\u2500\u2500\u2500\u2500\u2500\u2500\u2500\u2500\u2500\u2500\u2500\u2500\u2500\u2500\u2500\n",
        "\u001b[0m\n"
       ]
      }
     ],
     "prompt_number": 9
    },
    {
     "cell_type": "code",
     "collapsed": false,
     "input": [
      "# Kill the oscilloscope and clock threads\n",
      "o.kill()\n",
      "clock.kill()"
     ],
     "language": "python",
     "metadata": {},
     "outputs": [],
     "prompt_number": 10
    }
   ],
   "metadata": {}
  }
 ]
}