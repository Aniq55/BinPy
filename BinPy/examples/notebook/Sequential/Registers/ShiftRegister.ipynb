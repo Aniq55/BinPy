{
 "metadata": {
  "name": "",
  "signature": "sha256:f90a72b300b4b8cba1e30a6488049c207bc5b83f36d2bb7c345e1c0d8bb1492f"
 },
 "nbformat": 3,
 "nbformat_minor": 0,
 "worksheets": [
  {
   "cells": [
    {
     "cell_type": "heading",
     "level": 2,
     "metadata": {},
     "source": [
      "Examples for ShiftRegister class"
     ]
    },
    {
     "cell_type": "code",
     "collapsed": false,
     "input": [
      "from __future__ import print_function\n",
      "from BinPy.Sequential import *"
     ],
     "language": "python",
     "metadata": {},
     "outputs": [],
     "prompt_number": 1
    },
    {
     "cell_type": "code",
     "collapsed": false,
     "input": [
      "# Initializing the ShiftRegister class\n",
      "\n",
      "# Input is of the form ([A0, A1, A2, A3], CLOCK, CIRCULAR)\n",
      "\n",
      "# Initialise clock\n",
      "\n",
      "c = Clock(1, 500)\n",
      "c.start()\n",
      "\n",
      "# Simple shift register\n",
      "\n",
      "fr = ShiftRegister([1, 0, 1, 1], c, 0)\n",
      "\n",
      "# Output of the register\n",
      "\n",
      "print (fr.output())"
     ],
     "language": "python",
     "metadata": {},
     "outputs": [
      {
       "output_type": "stream",
       "stream": "stdout",
       "text": [
        "[1, 0, 0, 0]\n"
       ]
      }
     ],
     "prompt_number": 2
    },
    {
     "cell_type": "code",
     "collapsed": false,
     "input": [
      "# Circular shift register\n",
      "\n",
      "fr = ShiftRegister([1, 0, 1, 1], c, 1)\n",
      "\n",
      "# Output of the register\n",
      "\n",
      "print (fr.output())"
     ],
     "language": "python",
     "metadata": {},
     "outputs": [
      {
       "output_type": "stream",
       "stream": "stdout",
       "text": [
        "[1, 1, 0, 1]\n"
       ]
      }
     ],
     "prompt_number": 3
    },
    {
     "cell_type": "code",
     "collapsed": false,
     "input": [
      "# Input changes\n",
      "\n",
      "# Input at index 1 is changed to 0\n",
      "\n",
      "fr.setInput(1, 0)\n",
      "\n",
      "# New Output of the register\n",
      "\n",
      "print (fr.output())"
     ],
     "language": "python",
     "metadata": {},
     "outputs": [
      {
       "output_type": "stream",
       "stream": "stdout",
       "text": [
        "[1, 1, 0, 0]\n"
       ]
      }
     ],
     "prompt_number": 4
    },
    {
     "cell_type": "code",
     "collapsed": false,
     "input": [
      "#  Changing the inputs\n",
      "\n",
      "# No need to set the number, just change the inputs\n",
      "\n",
      "fr.setInputs(1, 1, 1, 1)\n",
      "\n",
      "# To get the input states\n",
      "\n",
      "print (fr.getInputStates())"
     ],
     "language": "python",
     "metadata": {},
     "outputs": [
      {
       "output_type": "stream",
       "stream": "stdout",
       "text": [
        "[1, 1, 1, 1]\n"
       ]
      }
     ],
     "prompt_number": 5
    },
    {
     "cell_type": "code",
     "collapsed": false,
     "input": [
      "# New output of the register\n",
      "\n",
      "print (fr.output())"
     ],
     "language": "python",
     "metadata": {},
     "outputs": [
      {
       "output_type": "stream",
       "stream": "stdout",
       "text": [
        "[1, 1, 1, 1]\n"
       ]
      }
     ],
     "prompt_number": 6
    },
    {
     "cell_type": "code",
     "collapsed": false,
     "input": [
      "# Using Connectors as the input lines\n",
      "\n",
      "# Take a Connector\n",
      "\n",
      "conn = Connector()\n",
      "\n",
      "# Set Output of gate to Connector conn\n",
      "\n",
      "fr.setOutput(2, conn)\n",
      "\n",
      "# Put this connector as the input to gate1\n",
      "\n",
      "gate1 = AND(conn, 0)\n",
      "\n",
      "# Output of the gate1\n",
      "\n",
      "print (gate1.output())"
     ],
     "language": "python",
     "metadata": {},
     "outputs": [
      {
       "output_type": "stream",
       "stream": "stdout",
       "text": [
        "0\n"
       ]
      }
     ],
     "prompt_number": 7
    }
   ],
   "metadata": {}
  }
 ]
}