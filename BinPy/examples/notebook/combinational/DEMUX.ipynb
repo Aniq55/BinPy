{
 "metadata": {
  "name": "",
  "signature": "sha256:8da72aece84d7be4b93bd4410b818e113476bb79e61a167bfe8a716903ccc315"
 },
 "nbformat": 3,
 "nbformat_minor": 0,
 "worksheets": [
  {
   "cells": [
    {
     "cell_type": "heading",
     "level": 2,
     "metadata": {},
     "source": [
      "Example for DEMUX class."
     ]
    },
    {
     "cell_type": "code",
     "collapsed": false,
     "input": [
      "from __future__ import print_function\n",
      "from BinPy.Combinational.combinational import *"
     ],
     "language": "python",
     "metadata": {},
     "outputs": [],
     "prompt_number": 1
    },
    {
     "cell_type": "code",
     "collapsed": false,
     "input": [
      "# Initializing the DEMUX class\n",
      "\n",
      "# Must be a single input\n",
      "\n",
      "demux = DEMUX(1)\n",
      "\n",
      "# Put select lines\n",
      "\n",
      "# Select Lines must be power of 2\n",
      "\n",
      "demux.selectLines(0)\n",
      "\n",
      "# Output of demux\n",
      "\n",
      "print (demux.output())"
     ],
     "language": "python",
     "metadata": {},
     "outputs": [
      {
       "output_type": "stream",
       "stream": "stdout",
       "text": [
        "[1, 0]\n"
       ]
      }
     ],
     "prompt_number": 2
    },
    {
     "cell_type": "code",
     "collapsed": false,
     "input": [
      "# Input changes\n",
      "\n",
      "# Input at index 1 is changed to 0\n",
      "\n",
      "demux.setInput(0, 0)\n",
      "\n",
      "# New Output of the demux\n",
      "\n",
      "print (demux.output())"
     ],
     "language": "python",
     "metadata": {},
     "outputs": [
      {
       "output_type": "stream",
       "stream": "stdout",
       "text": [
        "[0, 0]\n"
       ]
      }
     ],
     "prompt_number": 3
    },
    {
     "cell_type": "code",
     "collapsed": false,
     "input": [
      "# Get Input States\n",
      "\n",
      "print (demux.getInputStates())"
     ],
     "language": "python",
     "metadata": {},
     "outputs": [
      {
       "output_type": "stream",
       "stream": "stdout",
       "text": [
        "[0]\n"
       ]
      }
     ],
     "prompt_number": 4
    },
    {
     "cell_type": "code",
     "collapsed": false,
     "input": [
      "# Using Connectors as the input lines\n",
      "\n",
      "# Take a Connector\n",
      "\n",
      "conn = Connector()\n",
      "\n",
      "# Set Output of demux to Connector conn\n",
      "\n",
      "# sets conn as the output at index 0\n",
      "\n",
      "demux.setOutput(0, conn)\n",
      "\n",
      "# Put this connector as the input to gate1\n",
      "\n",
      "gate1 = AND(conn, 0)\n",
      "\n",
      "# Output of the gate1\n",
      "\n",
      "print (gate1.output())"
     ],
     "language": "python",
     "metadata": {},
     "outputs": [
      {
       "output_type": "stream",
       "stream": "stdout",
       "text": [
        "0\n"
       ]
      }
     ],
     "prompt_number": 5
    },
    {
     "cell_type": "code",
     "collapsed": false,
     "input": [
      "# Changing select lines\n",
      "\n",
      "#selects input line 2\n",
      "\n",
      "demux.selectLine(0, 1)\n",
      "\n",
      "# New output of demux\n",
      "\n",
      "print (demux.output())"
     ],
     "language": "python",
     "metadata": {},
     "outputs": [
      {
       "output_type": "stream",
       "stream": "stdout",
       "text": [
        "[0, 0]\n"
       ]
      }
     ],
     "prompt_number": 6
    },
    {
     "cell_type": "code",
     "collapsed": false,
     "input": [
      "# Information about demux instance can be found by\n",
      "\n",
      "print (demux)"
     ],
     "language": "python",
     "metadata": {},
     "outputs": [
      {
       "output_type": "stream",
       "stream": "stdout",
       "text": [
        "DEMUX Gate; Output: [0, 0]; Inputs: [0];\n"
       ]
      }
     ],
     "prompt_number": 7
    }
   ],
   "metadata": {}
  }
 ]
}