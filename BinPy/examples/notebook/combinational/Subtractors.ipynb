{
 "metadata": {
  "name": "",
  "signature": "sha256:2d96144633c30334259ce22e3cf0fa07f95464f49756bd550c52b0876842542c"
 },
 "nbformat": 3,
 "nbformat_minor": 0,
 "worksheets": [
  {
   "cells": [
    {
     "cell_type": "heading",
     "level": 2,
     "metadata": {},
     "source": [
      "Example for Subtractors from combinational module"
     ]
    },
    {
     "cell_type": "code",
     "collapsed": false,
     "input": [
      "# Imports\n",
      "\n",
      "from __future__ import print_function\n",
      "from BinPy.combinational.combinational import *"
     ],
     "language": "python",
     "metadata": {},
     "outputs": [],
     "prompt_number": 1
    },
    {
     "cell_type": "heading",
     "level": 3,
     "metadata": {},
     "source": [
      "Half Subtractor"
     ]
    },
    {
     "cell_type": "code",
     "collapsed": false,
     "input": [
      "print(HalfSubtractor.__doc__)"
     ],
     "language": "python",
     "metadata": {},
     "outputs": [
      {
       "output_type": "stream",
       "stream": "stdout",
       "text": [
        "This Class implements Half Subtractor, Arithmetic difference of two bits and return its\n",
        "    Difference and Borrow output\n",
        "    Output: [BORROW, DIFFERENCE]\n",
        "    Example:\n",
        "        >>> from BinPy import *\n",
        "        >>> hs = HalfSubtractor(0, 1)\n",
        "        >>> hs.output()\n",
        "        [1, 1]\n",
        "\n",
        "    \n"
       ]
      }
     ],
     "prompt_number": 2
    },
    {
     "cell_type": "code",
     "collapsed": false,
     "input": [
      "# Initializing the HalfSubtractor\n",
      "\n",
      "# Input is of the form (bit_1, bit_2)\n",
      "hs = HalfSubtractor(1, 1)\n",
      "\n",
      "# Output of HalfSubtractor\n",
      "# Output is of the form [BORROW, DIFFERENCE]\n",
      "\n",
      "print (hs.output())"
     ],
     "language": "python",
     "metadata": {},
     "outputs": [
      {
       "output_type": "stream",
       "stream": "stdout",
       "text": [
        "[0, 0]\n"
       ]
      }
     ],
     "prompt_number": 3
    },
    {
     "cell_type": "code",
     "collapsed": false,
     "input": [
      "# Input changes ( index, value )\n",
      "\n",
      "hs.set_input(1, 0)\n",
      "\n",
      "# New Output of the HalfSubtractor\n",
      "\n",
      "print (hs.output())"
     ],
     "language": "python",
     "metadata": {},
     "outputs": [
      {
       "output_type": "stream",
       "stream": "stdout",
       "text": [
        "[0, 1]\n"
       ]
      }
     ],
     "prompt_number": 4
    },
    {
     "cell_type": "code",
     "collapsed": false,
     "input": [
      "# Using Connectors as the input lines\n",
      "# Take a Connector\n",
      "\n",
      "conn_1 = Connector(1)\n",
      "conn_2 = Connector(0)\n",
      "conn_3 = Connector()\n",
      "\n",
      "# Setting the input of the Half Adder to the Connector conn_1 and conn_2\n",
      "\n",
      "hs.set_inputs(conn_1, conn_2)\n",
      "\n",
      "# Set Carry Output of Binary Adder to Connector conn_3\n",
      "\n",
      "hs.set_output(0, conn_3)\n",
      "\n",
      "# Use this connector as the input to gate1\n",
      "\n",
      "gate1 = NOT(conn_3)\n",
      "\n",
      "# Output of the gate1\n",
      "print (gate1.output())"
     ],
     "language": "python",
     "metadata": {},
     "outputs": [
      {
       "output_type": "stream",
       "stream": "stdout",
       "text": [
        "1\n"
       ]
      }
     ],
     "prompt_number": 5
    },
    {
     "cell_type": "code",
     "collapsed": false,
     "input": [
      "# Change the value of the conn_2\n",
      "conn_2.set_logic(0)\n",
      "\n",
      "# Verify with the output of the HalfAdder\n",
      "print (hs.output())"
     ],
     "language": "python",
     "metadata": {},
     "outputs": [
      {
       "output_type": "stream",
       "stream": "stdout",
       "text": [
        "[0, 1]\n"
       ]
      }
     ],
     "prompt_number": 6
    },
    {
     "cell_type": "heading",
     "level": 3,
     "metadata": {},
     "source": [
      "Full Adder"
     ]
    },
    {
     "cell_type": "code",
     "collapsed": false,
     "input": [
      "print(FullSubtractor.__doc__)"
     ],
     "language": "python",
     "metadata": {},
     "outputs": [
      {
       "output_type": "stream",
       "stream": "stdout",
       "text": [
        "This Class implements Full Subtractor, Arithmetic difference of three bits and\n",
        "    return its Difference and Borrow\n",
        "    Output: [BORROW, DIFFERENCE]\n",
        "    Example:\n",
        "        >>> from BinPy import *\n",
        "        >>> fs = FullSubtractor(0, 1, 1)\n",
        "        >>> fs.output()\n",
        "        [0, 1]\n",
        "    \n"
       ]
      }
     ],
     "prompt_number": 7
    },
    {
     "cell_type": "code",
     "collapsed": false,
     "input": [
      "a, b, bi, d, bo = Connector(0), Connector(1), Connector(1), Connector(), Connector()\n",
      "\n",
      "# Initializing full adder using connectors\n",
      "fa = FullSubtractor(a, b, bi)\n",
      "\n",
      "# Connect outputs\n",
      "fa.set_output(0, bo)\n",
      "fa.set_output(1, d)"
     ],
     "language": "python",
     "metadata": {},
     "outputs": [],
     "prompt_number": 8
    },
    {
     "cell_type": "code",
     "collapsed": false,
     "input": [
      "print (bo.get_logic(), d.get_logic())"
     ],
     "language": "python",
     "metadata": {},
     "outputs": [
      {
       "output_type": "stream",
       "stream": "stdout",
       "text": [
        "1 0\n"
       ]
      }
     ],
     "prompt_number": 9
    }
   ],
   "metadata": {}
  }
 ]
}