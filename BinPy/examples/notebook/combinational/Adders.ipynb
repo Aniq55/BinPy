{
 "metadata": {
  "name": "",
  "signature": "sha256:8b02eb62e6ad636a3e0b2467cbdce833d7ac73a05e68eb2a4f6ee07b6dabd567"
 },
 "nbformat": 3,
 "nbformat_minor": 0,
 "worksheets": [
  {
   "cells": [
    {
     "cell_type": "heading",
     "level": 2,
     "metadata": {},
     "source": [
      "Example for Adders from combinational module"
     ]
    },
    {
     "cell_type": "code",
     "collapsed": false,
     "input": [
      "# Imports\n",
      "\n",
      "from __future__ import print_function\n",
      "from BinPy.combinational.combinational import *"
     ],
     "language": "python",
     "metadata": {},
     "outputs": [],
     "prompt_number": 1
    },
    {
     "cell_type": "heading",
     "level": 3,
     "metadata": {},
     "source": [
      "Half Adder"
     ]
    },
    {
     "cell_type": "code",
     "collapsed": false,
     "input": [
      "print(HalfAdder.__doc__)"
     ],
     "language": "python",
     "metadata": {},
     "outputs": [
      {
       "output_type": "stream",
       "stream": "stdout",
       "text": [
        "This Class implements Half Adder, Arithmetic sum of two bits and return its\n",
        "    Sum and Carry\n",
        "    Output: [CARRY, SUM]\n",
        "    Example:\n",
        "        >>> from BinPy import *\n",
        "        >>> ha = HalfAdder(0, 1)\n",
        "        >>> ha.output()\n",
        "        [0, 1]\n",
        "\n",
        "    \n"
       ]
      }
     ],
     "prompt_number": 2
    },
    {
     "cell_type": "code",
     "collapsed": false,
     "input": [
      "# Initializing the HalfAdder\n",
      "\n",
      "# Input is of the form (bit_1, bit_2)\n",
      "ha = HalfAdder(1, 1)\n",
      "\n",
      "# Output of HalfAdder\n",
      "# Output is of the form [ CARRY, SUM ]\n",
      "\n",
      "print (ha.output())"
     ],
     "language": "python",
     "metadata": {},
     "outputs": [
      {
       "output_type": "stream",
       "stream": "stdout",
       "text": [
        "[1, 0]\n"
       ]
      }
     ],
     "prompt_number": 3
    },
    {
     "cell_type": "code",
     "collapsed": false,
     "input": [
      "# Input changes ( index, value )\n",
      "\n",
      "ha.set_input(1, 0)\n",
      "\n",
      "# New Output of the BinaryAdder\n",
      "\n",
      "print (ha.output())"
     ],
     "language": "python",
     "metadata": {},
     "outputs": [
      {
       "output_type": "stream",
       "stream": "stdout",
       "text": [
        "[0, 1]\n"
       ]
      }
     ],
     "prompt_number": 4
    },
    {
     "cell_type": "code",
     "collapsed": false,
     "input": [
      "# Using Connectors as the input lines\n",
      "# Take a Connector\n",
      "\n",
      "conn_1 = Connector(1)\n",
      "conn_2 = Connector(0)\n",
      "conn_3 = Connector()\n",
      "\n",
      "# Setting the input of the Half Adder to the Connector conn_1 and conn_2\n",
      "\n",
      "ha.set_inputs(conn_1, conn_2)\n",
      "\n",
      "# Set Carry Output of Binary Adder to Connector conn_3\n",
      "\n",
      "ha.set_output(0, conn_3)\n",
      "\n",
      "# Use this connector as the input to gate1\n",
      "\n",
      "gate1 = NOT(conn_3)\n",
      "\n",
      "# Output of the gate1\n",
      "print (gate1.output())"
     ],
     "language": "python",
     "metadata": {},
     "outputs": [
      {
       "output_type": "stream",
       "stream": "stdout",
       "text": [
        "1\n"
       ]
      }
     ],
     "prompt_number": 5
    },
    {
     "cell_type": "code",
     "collapsed": false,
     "input": [
      "# Change the value of the conn_2\n",
      "conn_2.set_logic(0)\n",
      "\n",
      "# Verify with the output of the HalfAdder\n",
      "print (ha.output())"
     ],
     "language": "python",
     "metadata": {},
     "outputs": [
      {
       "output_type": "stream",
       "stream": "stdout",
       "text": [
        "[0, 1]\n"
       ]
      }
     ],
     "prompt_number": 6
    },
    {
     "cell_type": "heading",
     "level": 3,
     "metadata": {},
     "source": [
      "Full Adder"
     ]
    },
    {
     "cell_type": "code",
     "collapsed": false,
     "input": [
      "print(FullAdder.__doc__)"
     ],
     "language": "python",
     "metadata": {},
     "outputs": [
      {
       "output_type": "stream",
       "stream": "stdout",
       "text": [
        "This Class implements Full Adder, Arithmetic sum of three bits and\n",
        "    return its Sum and Carry\n",
        "    Output: [CARRY, SUM]\n",
        "    Example:\n",
        "        >>> from BinPy import *\n",
        "        >>> fa = FullAdder(0, 1, 1)\n",
        "        >>> fa.output()\n",
        "        [1, 0]\n",
        "    \n"
       ]
      }
     ],
     "prompt_number": 7
    },
    {
     "cell_type": "code",
     "collapsed": false,
     "input": [
      "a, b, ci, s, co = Connector(1), Connector(1), Connector(1), Connector(), Connector()\n",
      "\n",
      "# Initializing full adder using connectors\n",
      "fa = FullAdder(a, b, ci)\n",
      "\n",
      "# Connect outputs\n",
      "fa.set_output(0, co)\n",
      "fa.set_output(1, s)"
     ],
     "language": "python",
     "metadata": {},
     "outputs": [],
     "prompt_number": 8
    },
    {
     "cell_type": "code",
     "collapsed": false,
     "input": [
      "print (co.get_logic(), s.get_logic())"
     ],
     "language": "python",
     "metadata": {},
     "outputs": [
      {
       "output_type": "stream",
       "stream": "stdout",
       "text": [
        "1 1\n"
       ]
      }
     ],
     "prompt_number": 9
    }
   ],
   "metadata": {}
  }
 ]
}